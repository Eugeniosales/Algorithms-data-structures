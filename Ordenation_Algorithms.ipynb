{
 "cells": [
  {
   "cell_type": "markdown",
   "metadata": {},
   "source": [
    "# Import Libraries"
   ]
  },
  {
   "cell_type": "code",
   "execution_count": 136,
   "metadata": {},
   "outputs": [],
   "source": [
    "from random import randint\n",
    "import time\n",
    "import matplotlib.pyplot as plt\n",
    "import seaborn as sns\n",
    "sns.set()"
   ]
  },
  {
   "cell_type": "markdown",
   "metadata": {},
   "source": [
    "# Selection Sort\n",
    "\n",
    "* Algoritmo Instável\n",
    "* Procura o menor valor do vetor e realiza a troca\n",
    "* Complexidade Assintótica: O(n²)"
   ]
  },
  {
   "cell_type": "code",
   "execution_count": 137,
   "metadata": {},
   "outputs": [],
   "source": [
    "def selection_sort(array):\n",
    "    size = len(array)\n",
    "    for i in range(size):\n",
    "        index_min = i\n",
    "        for j in range(i+1, size):\n",
    "            if array[index_min] > array[j]:\n",
    "                index_min = j\n",
    "\n",
    "        if index_min != i:\n",
    "            array[i], array[index_min] = array[index_min], array[i]"
   ]
  },
  {
   "cell_type": "markdown",
   "metadata": {},
   "source": [
    "# Inserction Sort\n",
    "\n",
    "* Algoritmo Estável\n",
    "* A medida que encontra um elemento desordenado, faz todos as trocas necessárias até esse elemento chegar na posição devida\n",
    "* Realiza menos trocas e comparações quando a lista está quase ordenada do que os outros O(n²)\n",
    "* Complexidade Assintótica: O(n²)"
   ]
  },
  {
   "cell_type": "code",
   "execution_count": 138,
   "metadata": {},
   "outputs": [],
   "source": [
    "def inserction_sort(array):\n",
    "    size = len(array)\n",
    "    for i in range(1, size):\n",
    "        j = i\n",
    "        while(j and array[j] < array[j-1]):\n",
    "            array[j], array[j-1] = array[j-1], array[j]\n",
    "            j-=1"
   ]
  },
  {
   "cell_type": "markdown",
   "metadata": {},
   "source": [
    "# Bubble Sort\n",
    "\n",
    "* Algoritmo Instável\n",
    "* Realiza inúmeras trocas até a lista está ordenada\n",
    "* Complexidade Assintótica: O(n²)"
   ]
  },
  {
   "cell_type": "code",
   "execution_count": 139,
   "metadata": {},
   "outputs": [],
   "source": [
    "def bubble_sort(array):\n",
    "    size = len(array)\n",
    "    swaps = True\n",
    "    while(swaps):\n",
    "        swaps = False\n",
    "        for i in range(0, size-1):\n",
    "            if array[i] > array[i+1]:\n",
    "                array[i], array[i+1] = array[i+1], array[i]\n",
    "                swaps = True"
   ]
  },
  {
   "cell_type": "markdown",
   "metadata": {},
   "source": [
    "## Which algorithm is the fastest one for random values?"
   ]
  },
  {
   "cell_type": "code",
   "execution_count": 147,
   "metadata": {},
   "outputs": [],
   "source": [
    "sample = []\n",
    "runtime = []\n",
    "\n",
    "for i in range(100):\n",
    "    sample.append(randint(0, 50000))\n",
    "\n",
    "test1 = sample\n",
    "test2 = sample\n",
    "test3 = sample"
   ]
  },
  {
   "cell_type": "code",
   "execution_count": 148,
   "metadata": {},
   "outputs": [],
   "source": [
    "start = time.time()\n",
    "selection_sort(test1)\n",
    "end = time.time()\n",
    "\n",
    "runtime.append(end-start)"
   ]
  },
  {
   "cell_type": "code",
   "execution_count": 149,
   "metadata": {},
   "outputs": [],
   "source": [
    "start = time.time()\n",
    "inserction_sort(test2)\n",
    "end = time.time()\n",
    "\n",
    "runtime.append(end-start)"
   ]
  },
  {
   "cell_type": "code",
   "execution_count": 150,
   "metadata": {},
   "outputs": [
    {
     "data": {
      "text/plain": [
       "[0.0004885196685791016, 0.0002124309539794922, 0.00027108192443847656]"
      ]
     },
     "execution_count": 150,
     "metadata": {},
     "output_type": "execute_result"
    }
   ],
   "source": [
    "start = time.time()\n",
    "bubble_sort(test3)\n",
    "end = time.time()\n",
    "\n",
    "runtime.append(end-start)\n",
    "\n",
    "runtime"
   ]
  },
  {
   "cell_type": "markdown",
   "metadata": {},
   "source": [
    "## Visualizing the results"
   ]
  },
  {
   "cell_type": "code",
   "execution_count": 151,
   "metadata": {},
   "outputs": [
    {
     "data": {
      "image/png": "[encoded data removed]",
      "text/plain": [
       "<Figure size 432x288 with 1 Axes>"
      ]
     },
     "metadata": {},
     "output_type": "display_data"
    }
   ],
   "source": [
    "algorithms = ['Selection', 'Inserction', 'Bubble']\n",
    "plt.title('Algorithms Runtime', fontsize=25)\n",
    "plt.ylabel('Runtime')\n",
    "plt.bar(algorithms, runtime)\n",
    "plt.show()"
   ]
  }
 ],
 "metadata": {
  "kernelspec": {
   "display_name": "Python 3",
   "language": "python",
   "name": "python3"
  },
  "language_info": {
   "codemirror_mode": {
    "name": "ipython",
    "version": 3
   },
   "file_extension": ".py",
   "mimetype": "text/x-python",
   "name": "python",
   "nbconvert_exporter": "python",
   "pygments_lexer": "ipython3",
   "version": "3.7.3"
  }
 },
 "nbformat": 4,
 "nbformat_minor": 2
}
