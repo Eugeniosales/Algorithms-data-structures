{
 "cells": [
  {
   "cell_type": "markdown",
   "metadata": {},
   "source": [
    "# Runtime Comparison of Classical Ordenation Algorithms"
   ]
  },
  {
   "cell_type": "markdown",
   "metadata": {},
   "source": [
    "## Import Libraries"
   ]
  },
  {
   "cell_type": "code",
   "execution_count": 1,
   "metadata": {},
   "outputs": [],
   "source": [
    "from random import randint\n",
    "import time\n",
    "import matplotlib.pyplot as plt\n",
    "import seaborn as sns\n",
    "sns.set()"
   ]
  },
  {
   "cell_type": "markdown",
   "metadata": {},
   "source": [
    "## Selection Sort\n",
    "\n",
    "* Algoritmo Instável\n",
    "* Procura o menor valor do vetor e realiza a troca\n",
    "* Complexidade Assintótica: O(n²)"
   ]
  },
  {
   "cell_type": "code",
   "execution_count": 2,
   "metadata": {},
   "outputs": [],
   "source": [
    "def selection_sort(array):\n",
    "    size = len(array)\n",
    "    for i in range(size):\n",
    "        index_min = i\n",
    "        for j in range(i+1, size):\n",
    "            if array[index_min] > array[j]:\n",
    "                index_min = j\n",
    "\n",
    "        if index_min != i:\n",
    "            array[i], array[index_min] = array[index_min], array[i]"
   ]
  },
  {
   "cell_type": "markdown",
   "metadata": {},
   "source": [
    "## Inserction Sort\n",
    "\n",
    "* Algoritmo Estável\n",
    "* A medida que encontra um elemento desordenado, faz todos as trocas necessárias até esse elemento chegar na posição devida\n",
    "* Realiza menos trocas e comparações quando a lista está quase ordenada do que os outros O(n²)\n",
    "* Complexidade Assintótica: O(n²)"
   ]
  },
  {
   "cell_type": "code",
   "execution_count": 3,
   "metadata": {},
   "outputs": [],
   "source": [
    "def inserction_sort(array):\n",
    "    size = len(array)\n",
    "    for i in range(1, size):\n",
    "        j = i\n",
    "        while(j and array[j] < array[j-1]):\n",
    "            array[j], array[j-1] = array[j-1], array[j]\n",
    "            j-=1"
   ]
  },
  {
   "cell_type": "markdown",
   "metadata": {},
   "source": [
    "## Bubble Sort\n",
    "\n",
    "* Algoritmo Instável\n",
    "* Realiza inúmeras trocas até a lista está ordenada\n",
    "* Complexidade Assintótica: O(n²)"
   ]
  },
  {
   "cell_type": "code",
   "execution_count": 4,
   "metadata": {},
   "outputs": [],
   "source": [
    "def bubble_sort(array):\n",
    "    size = len(array)\n",
    "    swaps = True\n",
    "    while(swaps):\n",
    "        swaps = False\n",
    "        for i in range(0, size-1):\n",
    "            if array[i] > array[i+1]:\n",
    "                array[i], array[i+1] = array[i+1], array[i]\n",
    "                swaps = True"
   ]
  },
  {
   "cell_type": "markdown",
   "metadata": {},
   "source": [
    "## Shell Sort\n",
    "\n",
    "* Algoritmo Estável\n",
    "* Complexidade Assintótica: O(n²)"
   ]
  },
  {
   "cell_type": "code",
   "execution_count": 5,
   "metadata": {},
   "outputs": [],
   "source": [
    "def shell_sort(array):\n",
    "    n = len(array)\n",
    "    h = int(n/2)\n",
    "    while h > 0:\n",
    "        for i in range(h, n):\n",
    "            j = i\n",
    "            aux = array[j]\n",
    "            while(h <= j and array[j-h] > aux):\n",
    "                array[j] = array[j-h]\n",
    "                j-=h\n",
    "            array[j] = aux\n",
    "        h = int(h/2)   "
   ]
  },
  {
   "cell_type": "markdown",
   "metadata": {},
   "source": [
    "## Quick Sort\n",
    "\n",
    "* Algoritmo Instável\n",
    "* Complexidade Assintótica: O(nlog(n))"
   ]
  },
  {
   "cell_type": "code",
   "execution_count": 6,
   "metadata": {},
   "outputs": [],
   "source": [
    "def quick_sort(array, start, end):\n",
    "    i = start\n",
    "    j = end-1\n",
    "    pivot = array[int((start+end)/2)]\n",
    "    while i <= j:\n",
    "        while pivot > array[i]:\n",
    "            i+=1\n",
    "        while pivot < array[j]:\n",
    "            j-=1\n",
    "        if i <= j:\n",
    "            array[i], array[j] = array[j], array[i]\n",
    "            i+=1\n",
    "            j-=1\n",
    "\n",
    "    if j > start:\n",
    "        quick_sort(array, start, j+1)\n",
    "    elif i < end:\n",
    "        quick_sort(array, i, end)\n",
    "\n",
    "    return array"
   ]
  },
  {
   "cell_type": "markdown",
   "metadata": {},
   "source": [
    "## Which algorithm is the fastest one for random values?"
   ]
  },
  {
   "cell_type": "markdown",
   "metadata": {},
   "source": [
    "## Random samples for the tests"
   ]
  },
  {
   "cell_type": "code",
   "execution_count": 154,
   "metadata": {},
   "outputs": [],
   "source": [
    "sample = []\n",
    "runtime = []\n",
    "test = []\n",
    "num_test = 5\n",
    "\n",
    "for i in range(1000):\n",
    "    sample.append(randint(0, 1000))"
   ]
  },
  {
   "cell_type": "markdown",
   "metadata": {},
   "source": [
    "## Initializing the tests"
   ]
  },
  {
   "cell_type": "code",
   "execution_count": 155,
   "metadata": {},
   "outputs": [],
   "source": [
    "test = []\n",
    "for i in range(0, num_test):\n",
    "    test.append(sample)"
   ]
  },
  {
   "cell_type": "code",
   "execution_count": 156,
   "metadata": {},
   "outputs": [],
   "source": [
    "start = time.time()\n",
    "selection_sort(test[0])\n",
    "end = time.time()\n",
    "\n",
    "runtime.append(end-start)"
   ]
  },
  {
   "cell_type": "code",
   "execution_count": 157,
   "metadata": {},
   "outputs": [],
   "source": [
    "start = time.time()\n",
    "inserction_sort(test[1])\n",
    "end = time.time()\n",
    "\n",
    "runtime.append(end-start)"
   ]
  },
  {
   "cell_type": "code",
   "execution_count": 158,
   "metadata": {},
   "outputs": [],
   "source": [
    "start = time.time()\n",
    "bubble_sort(test[2])\n",
    "end = time.time()\n",
    "\n",
    "runtime.append(end-start)"
   ]
  },
  {
   "cell_type": "code",
   "execution_count": 159,
   "metadata": {},
   "outputs": [],
   "source": [
    "start = time.time()\n",
    "shell_sort(test[3])\n",
    "end = time.time()\n",
    "\n",
    "runtime.append(end-start)"
   ]
  },
  {
   "cell_type": "code",
   "execution_count": 160,
   "metadata": {},
   "outputs": [
    {
     "data": {
      "text/plain": [
       "[0.05213761329650879,\n",
       " 0.0007579326629638672,\n",
       " 0.0017807483673095703,\n",
       " 0.00436854362487793,\n",
       " 0.00019359588623046875]"
      ]
     },
     "execution_count": 160,
     "metadata": {},
     "output_type": "execute_result"
    }
   ],
   "source": [
    "start = time.time()\n",
    "quick_sort(test[4], 0, len(test[4]))\n",
    "end = time.time()\n",
    "\n",
    "runtime.append(end-start)\n",
    "runtime"
   ]
  },
  {
   "cell_type": "markdown",
   "metadata": {},
   "source": [
    "## Visualizing the results"
   ]
  },
  {
   "cell_type": "code",
   "execution_count": 161,
   "metadata": {},
   "outputs": [
    {
     "data": {
      "image/png": "[encoded data removed]",
      "text/plain": [
       "<Figure size 432x288 with 1 Axes>"
      ]
     },
     "metadata": {
      "needs_background": "light"
     },
     "output_type": "display_data"
    }
   ],
   "source": [
    "algorithms = ['Selection', 'Inserction', 'Bubble', 'Shell', 'Quick']\n",
    "plt.title('Algorithms Runtime', fontsize=25)\n",
    "plt.ylabel('Runtime')\n",
    "Inserction Sort\n",
    "plt.bar(algorithms, runtime)\n",
    "plt.show()"
   ]
  },
  {
   "cell_type": "markdown",
   "metadata": {},
   "source": [
    "## Some Notes"
   ]
  },
  {
   "cell_type": "markdown",
   "metadata": {},
   "source": [
    "As we can see, for an array with 1000 random values, going frmm 0 to 1000, the classification, regarding the smaller runtimes, in a nutsheel is:\n",
    "\n",
    "* Quick Sort\n",
    "* Inserction Sort\n",
    "* Bubble Sort\n",
    "* Shell Sort\n",
    "* Selection Sort"
   ]
  }
 ],
 "metadata": {
  "kernelspec": {
   "display_name": "Python 3",
   "language": "python",
   "name": "python3"
  },
  "language_info": {
   "codemirror_mode": {
    "name": "ipython",
    "version": 3
   },
   "file_extension": ".py",
   "mimetype": "text/x-python",
   "name": "python",
   "nbconvert_exporter": "python",
   "pygments_lexer": "ipython3",
   "version": "3.7.3"
  }
 },
 "nbformat": 4,
 "nbformat_minor": 2
}
